{
 "cells": [
  {
   "cell_type": "code",
   "execution_count": 1,
   "id": "815b0371-1fe6-4d47-9d49-ee644c4a037b",
   "metadata": {},
   "outputs": [],
   "source": [
    "from ultralytics import YOLO\n",
    "\n",
    "def detect_objects(image_path, model_path=\"yolov8n.pt\"):\n",
    "    model = YOLO(model_path)\n",
    "    results = model(image_path)\n",
    "    \n",
    "    output = {}\n",
    "\n",
    "    for result in results:\n",
    "        boxes = result.boxes\n",
    "        for box in boxes:\n",
    "            cls_id = int(box.cls[0])  # 类别ID\n",
    "            xyxy = box.xyxy[0].tolist()  # 边框坐标 [x1, y1, x2, y2]\n",
    "            class_name = model.names[cls_id]  # 类别名称\n",
    "            \n",
    "            if class_name not in output:\n",
    "                output[class_name] = []\n",
    "            output[class_name].append([int(x) for x in xyxy])\n",
    "    \n",
    "    return output\n"
   ]
  },
  {
   "cell_type": "code",
   "execution_count": 4,
   "id": "63ea61d8-d887-400d-a2e0-6a57253611d4",
   "metadata": {},
   "outputs": [
    {
     "name": "stdout",
     "output_type": "stream",
     "text": [
      "\n",
      "image 1/1 D:\\pycharm_project\\GNN-Copy-Paste-main\\obj365\\Dog\\024a037366.jpg: 448x640 1 dog, 1 tie, 119.8ms\n",
      "Speed: 5.9ms preprocess, 119.8ms inference, 4.3ms postprocess per image at shape (1, 3, 448, 640)\n"
     ]
    }
   ],
   "source": [
    "result = detect_objects(\"obj365/Dog/024a037366.jpg\")"
   ]
  },
  {
   "cell_type": "code",
   "execution_count": 5,
   "id": "ec70b21f-066d-4738-8a53-58e3b74959f3",
   "metadata": {},
   "outputs": [
    {
     "data": {
      "text/plain": [
       "{'dog': [[110, 19, 484, 494]], 'tie': [[259, 402, 424, 494]]}"
      ]
     },
     "execution_count": 5,
     "metadata": {},
     "output_type": "execute_result"
    }
   ],
   "source": [
    "result"
   ]
  },
  {
   "cell_type": "code",
   "execution_count": 11,
   "id": "5948a6e4-c1e6-473d-aa94-c2899e0e9a01",
   "metadata": {},
   "outputs": [
    {
     "name": "stdout",
     "output_type": "stream",
     "text": [
      "dog\n",
      "tie\n"
     ]
    }
   ],
   "source": [
    "for class_name,box in result.items():\n",
    "    print(class_name)"
   ]
  },
  {
   "cell_type": "code",
   "execution_count": 9,
   "id": "c2a1bc37-8d8e-4f05-9b9c-7d1a8535ff82",
   "metadata": {},
   "outputs": [
    {
     "data": {
      "text/plain": [
       "['a', 'b']"
      ]
     },
     "execution_count": 9,
     "metadata": {},
     "output_type": "execute_result"
    }
   ],
   "source": [
    "list(set(['a','a','b']))"
   ]
  },
  {
   "cell_type": "code",
   "execution_count": 17,
   "id": "30fd58e2-a8ce-4c63-b3be-d22468baba17",
   "metadata": {},
   "outputs": [
    {
     "data": {
      "text/plain": [
       "'person'"
      ]
     },
     "execution_count": 17,
     "metadata": {},
     "output_type": "execute_result"
    }
   ],
   "source": [
    "import coco\n",
    "coco.coco_classes[1]"
   ]
  },
  {
   "cell_type": "code",
   "execution_count": null,
   "id": "3f7f0569-04ac-4d66-ac9f-f88188f7b19e",
   "metadata": {},
   "outputs": [],
   "source": []
  }
 ],
 "metadata": {
  "kernelspec": {
   "display_name": "Python 3 (ipykernel)",
   "language": "python",
   "name": "python3"
  },
  "language_info": {
   "codemirror_mode": {
    "name": "ipython",
    "version": 3
   },
   "file_extension": ".py",
   "mimetype": "text/x-python",
   "name": "python",
   "nbconvert_exporter": "python",
   "pygments_lexer": "ipython3",
   "version": "3.12.3"
  }
 },
 "nbformat": 4,
 "nbformat_minor": 5
}
